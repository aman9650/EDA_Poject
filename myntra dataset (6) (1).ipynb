{
 "cells": [
  {
   "cell_type": "markdown",
   "id": "8687aaad",
   "metadata": {},
   "source": [
    "### INT353 CA-2\n",
    "#### Name - Aman Gautam\n",
    "#### Registration number - 12016284\n",
    "#### Roll no- RK20RUA20\n"
   ]
  },
  {
   "cell_type": "markdown",
   "id": "e5724c84",
   "metadata": {},
   "source": [
    "#### PROJECT - Myntra Fasion Clothing\n"
   ]
  },
  {
   "cell_type": "markdown",
   "id": "1615c97a",
   "metadata": {},
   "source": [
    "## INTRODUCTION-\n",
    "\n",
    "\n",
    "#### Myntra is a popular name among fashion enthusiasts, by fashion enthusiasts we mean quite everyone. Everyone wants to make a style statement, and everyone wants to stand out. In this sort of environment, Myntra is a perfect destination for these people. It is a place that caters to a lot of demands in a single and simple setting. A single stop for all things fashion.\n"
   ]
  },
  {
   "cell_type": "markdown",
   "id": "30dbe941",
   "metadata": {},
   "source": [
    "## Why I chose Myntra Fashion-\n",
    "\n",
    "#### In this dataset I analysis the trends of different products according to reviews and ratings according to different categories and brands. I will also remove the different outliers and null values which affect the data.This dataset has   526564 rows and 13columns\n"
   ]
  },
  {
   "cell_type": "markdown",
   "id": "47d908ca",
   "metadata": {},
   "source": [
    "### The columns in the dataset are described as follows:\n",
    "#### 1.\tURL of the Product – It has the URL of all product list present in dataset.\n",
    "#### 2.\tProductid – It has the id of all product present in dataset and each value ahs its own unique id so that that no two products have similar id\n",
    "#### 3.\tBrand Name- it contains all top brand names whose products are sell by Myntra online.\n",
    "#### 4.\tCategory – It contains all categories of clothes whether its western, Indian and other categories.\n",
    "#### 5.\tIndividual category – It contains all individual details like whether its shirt, pants or any other women wear.\n",
    "#### 6.\tCategory by gender – It tells whether the products is for women or men.\n",
    "#### 7.\tDescription – It tells a detailed description of the product with information about the clothes so that user can think about it before it.\n",
    "#### 8.\tDiscount price – It shows the product price after the discount amount is reduced from the main price.\n",
    "#### 9.\tOriginal price – It shows the original price without reducing the discount price from data.\n",
    "#### 10.\tDiscount – The column shows the discount percent of all the products that how much discount is present in data.\n",
    "#### 11.\tSize- It shows how many different sizes of a product is available in store.\n",
    "#### 12.\tRatings – it shows the ratings of a product given by users to the product.\n",
    "#### 13.\tReviews - It shows the total reviews shown by different buyers after buying the product from Myntra\n"
   ]
  },
  {
   "cell_type": "markdown",
   "id": "da6fb1ac",
   "metadata": {},
   "source": [
    "#### --------------------------------------------------------------------------------------"
   ]
  },
  {
   "cell_type": "markdown",
   "id": "bf2a49ae",
   "metadata": {},
   "source": [
    "### ->FIRST WE IMPORT DIFFERENT PYTHON LIBRARIES WHICH WE WILL USE IN OUR PROJECT"
   ]
  },
  {
   "cell_type": "code",
   "execution_count": null,
   "id": "d3ce8975",
   "metadata": {},
   "outputs": [],
   "source": [
    "import numpy as np\n",
    "import pandas as pd\n",
    "import seaborn as sns\n",
    "import matplotlib.pyplot as plt\n",
    "import warnings\n",
    "warnings.filterwarnings(\"ignore\")"
   ]
  },
  {
   "cell_type": "markdown",
   "id": "7db7f963",
   "metadata": {},
   "source": [
    "### ->IMPORTING THE EXCEL FILE DATA"
   ]
  },
  {
   "cell_type": "code",
   "execution_count": null,
   "id": "eb395c2e",
   "metadata": {},
   "outputs": [],
   "source": [
    "data=pd.read_csv(\"Myntra Fasion Clothing.csv\")"
   ]
  },
  {
   "cell_type": "code",
   "execution_count": null,
   "id": "248a1eb6",
   "metadata": {},
   "outputs": [],
   "source": [
    "#pd.set_option(\"display.max_rows\", None, \"display.max_columns\", None)"
   ]
  },
  {
   "cell_type": "code",
   "execution_count": null,
   "id": "a3abe010",
   "metadata": {},
   "outputs": [],
   "source": []
  },
  {
   "cell_type": "code",
   "execution_count": null,
   "id": "c81f156e",
   "metadata": {},
   "outputs": [],
   "source": [
    "data.head()"
   ]
  },
  {
   "cell_type": "markdown",
   "id": "639f76ee",
   "metadata": {},
   "source": [
    "### ->First we change the column order as we need to check the product_id first then at the end we need to see URL of the product which makes the dataset easy to read\n"
   ]
  },
  {
   "cell_type": "code",
   "execution_count": null,
   "id": "34c2be57",
   "metadata": {},
   "outputs": [],
   "source": [
    "new_order = [1,2,3,4,5,6,7,8,9,10,11,12,0]\n",
    "data=data[data.columns[new_order]]"
   ]
  },
  {
   "cell_type": "code",
   "execution_count": null,
   "id": "f6dff18f",
   "metadata": {},
   "outputs": [],
   "source": [
    "data.head()"
   ]
  },
  {
   "cell_type": "markdown",
   "id": "0ac0a84d",
   "metadata": {},
   "source": [
    "### *------------------*---------------------------*"
   ]
  },
  {
   "cell_type": "markdown",
   "id": "a92606ef",
   "metadata": {},
   "source": [
    "### ->Getting dimension or shape of dataset"
   ]
  },
  {
   "cell_type": "code",
   "execution_count": null,
   "id": "3ae9d7b0",
   "metadata": {},
   "outputs": [],
   "source": [
    "data.shape"
   ]
  },
  {
   "cell_type": "markdown",
   "id": "ea57e475",
   "metadata": {},
   "source": [
    "### ->Using pandas info() to find the non-null values and data types of different columns"
   ]
  },
  {
   "cell_type": "code",
   "execution_count": null,
   "id": "10b67934",
   "metadata": {
    "scrolled": true
   },
   "outputs": [],
   "source": [
    "data.info()"
   ]
  },
  {
   "cell_type": "markdown",
   "id": "5a4e5631",
   "metadata": {},
   "source": [
    "\n",
    "### This dataset contains float, int, object values"
   ]
  },
  {
   "cell_type": "markdown",
   "id": "0bc88511",
   "metadata": {},
   "source": [
    "### ----------------------------------------"
   ]
  },
  {
   "cell_type": "markdown",
   "id": "cd5ededb",
   "metadata": {},
   "source": [
    "### ->Using pandas .isnull().sum()  to get the count of sum of all null values present oin "
   ]
  },
  {
   "cell_type": "code",
   "execution_count": null,
   "id": "97a1db9a",
   "metadata": {
    "scrolled": true
   },
   "outputs": [],
   "source": [
    "data.isnull().sum() "
   ]
  },
  {
   "cell_type": "code",
   "execution_count": null,
   "id": "87aa9dfc",
   "metadata": {},
   "outputs": [],
   "source": []
  },
  {
   "cell_type": "markdown",
   "id": "e5c267b6",
   "metadata": {},
   "source": [
    "### -> There are 4 columns with  null values i.e.\n",
    "1. DiscountPrice (in Rs)   - 193158\n",
    "2. DiscountOffer           -  74306\n",
    "3. Ratings                 - 336152\n",
    "4. Reviews                 - 336152"
   ]
  },
  {
   "cell_type": "markdown",
   "id": "3be78941",
   "metadata": {},
   "source": [
    "# DATA CLEANING"
   ]
  },
  {
   "cell_type": "markdown",
   "id": "4bdb52e2",
   "metadata": {},
   "source": [
    "### ->As we know that the first column with null values is \"DiscountPrice (in Rs)\" "
   ]
  },
  {
   "cell_type": "markdown",
   "id": "5f288e29",
   "metadata": {},
   "source": [
    "### ->Getting the counts of each value present in the \"DiscountPrice (in Rs)\" column using pandas .value_counts()"
   ]
  },
  {
   "cell_type": "code",
   "execution_count": null,
   "id": "96dfe96d",
   "metadata": {},
   "outputs": [],
   "source": [
    "data[\"DiscountPrice (in Rs)\"].value_counts()"
   ]
  },
  {
   "cell_type": "code",
   "execution_count": null,
   "id": "80e0df1b",
   "metadata": {},
   "outputs": [],
   "source": [
    " ## Getting the statistical values of column 'DiscountPrice (in Rs)' using describe() funtion\n",
    "data['DiscountPrice (in Rs)'].describe()"
   ]
  },
  {
   "cell_type": "markdown",
   "id": "0b4b1772",
   "metadata": {},
   "source": [
    "### ->As we can see there is lot of variations min max value so we can\"t use any statistical value directly related to this columns"
   ]
  },
  {
   "cell_type": "markdown",
   "id": "9aa17cb1",
   "metadata": {},
   "source": [
    "#### we can use  price values related to different categories "
   ]
  },
  {
   "cell_type": "code",
   "execution_count": null,
   "id": "a4a12c4b",
   "metadata": {},
   "outputs": [],
   "source": [
    "data['Category'].value_counts()"
   ]
  },
  {
   "cell_type": "markdown",
   "id": "48057082",
   "metadata": {},
   "source": [
    "## ->Using groupby to get the mean of different discount price according to diffrent category"
   ]
  },
  {
   "cell_type": "code",
   "execution_count": null,
   "id": "db35b509",
   "metadata": {
    "scrolled": true
   },
   "outputs": [],
   "source": [
    "data.groupby('Category').mean()['DiscountPrice (in Rs)']"
   ]
  },
  {
   "cell_type": "markdown",
   "id": "c4b771af",
   "metadata": {},
   "source": [
    "### ->in the following method, we have used groupby() and transform() functions to replace the mean of different  Null values.\n"
   ]
  },
  {
   "cell_type": "code",
   "execution_count": null,
   "id": "60c51614",
   "metadata": {},
   "outputs": [],
   "source": [
    "data['DiscountPrice (in Rs)'] = data['DiscountPrice (in Rs)'].fillna(data.groupby('Category')['DiscountPrice (in Rs)'].transform('mean'))"
   ]
  },
  {
   "cell_type": "code",
   "execution_count": null,
   "id": "fe9af1bc",
   "metadata": {},
   "outputs": [],
   "source": [
    "data['DiscountPrice (in Rs)'].describe() \n"
   ]
  },
  {
   "cell_type": "markdown",
   "id": "36bf27fa",
   "metadata": {},
   "source": [
    "### Conclusion\n",
    "#### As we can see there is not that much change in statistical values because we add mean values according to different categories "
   ]
  },
  {
   "cell_type": "code",
   "execution_count": null,
   "id": "b82b7758",
   "metadata": {},
   "outputs": [],
   "source": [
    "data.isnull().sum() # now we succefully remove the null values of this column"
   ]
  },
  {
   "cell_type": "markdown",
   "id": "dac0e8ce",
   "metadata": {},
   "source": [
    "### conclusion \n",
    "#### the null values of the column 'DiscountPrice (in Rs)' is seccessfully removed\n"
   ]
  },
  {
   "cell_type": "markdown",
   "id": "ba3e3cc1",
   "metadata": {},
   "source": [
    "###  --------                     ----------------------                                --------------------"
   ]
  },
  {
   "cell_type": "markdown",
   "id": "9d760fb7",
   "metadata": {},
   "source": [
    "## CLEANING NULL VALUES OF COLUMN 'Ratings'"
   ]
  },
  {
   "cell_type": "code",
   "execution_count": null,
   "id": "3d66f02b",
   "metadata": {},
   "outputs": [],
   "source": [
    "data['Ratings'].value_counts()"
   ]
  },
  {
   "cell_type": "code",
   "execution_count": null,
   "id": "49a466ee",
   "metadata": {},
   "outputs": [],
   "source": [
    "data['Ratings'].describe() # we can't use mean value in null values here because mean is close to max value which is not a good odea to use in this "
   ]
  },
  {
   "cell_type": "markdown",
   "id": "cf1646b1",
   "metadata": {},
   "source": [
    "#### By checking the statistical values we see we can't use mean value in null values here because mean is close to max value which is not a good "
   ]
  },
  {
   "cell_type": "code",
   "execution_count": null,
   "id": "ca750b24",
   "metadata": {},
   "outputs": [],
   "source": [
    "data.groupby('Category').mean()['Ratings'] "
   ]
  },
  {
   "cell_type": "markdown",
   "id": "fc9ef144",
   "metadata": {},
   "source": [
    "### -> we can't use mean according to each category so we have to drop this idea too"
   ]
  },
  {
   "cell_type": "markdown",
   "id": "d95b4608",
   "metadata": {},
   "source": [
    "### ------Lets find the mean of rating with respect to the 'Individual_category'-----"
   ]
  },
  {
   "cell_type": "code",
   "execution_count": null,
   "id": "ff216da9",
   "metadata": {
    "scrolled": true
   },
   "outputs": [],
   "source": [
    "data.groupby('Individual_category').mean()['Ratings']"
   ]
  },
  {
   "cell_type": "markdown",
   "id": "dfdfdced",
   "metadata": {},
   "source": [
    "### ->Conclusion\n",
    "#### As we can see the variation of mean using the individual category is a good idea \n",
    "#### But there are also some null values whose mean is not shown because of less value counts so we ahve to remove those numbers"
   ]
  },
  {
   "cell_type": "code",
   "execution_count": null,
   "id": "12c6fcc6",
   "metadata": {},
   "outputs": [],
   "source": [
    "data['Individual_category'].value_counts()"
   ]
  },
  {
   "cell_type": "markdown",
   "id": "57f35acd",
   "metadata": {},
   "source": [
    "####  Removing the Individual category data with less value counts"
   ]
  },
  {
   "cell_type": "code",
   "execution_count": null,
   "id": "cea879fe",
   "metadata": {},
   "outputs": [],
   "source": [
    "counts = data['Individual_category'].value_counts()\n",
    "\n",
    "data = data[~data['Individual_category'].isin(counts[counts < 11].index)]"
   ]
  },
  {
   "cell_type": "code",
   "execution_count": null,
   "id": "7a258a92",
   "metadata": {},
   "outputs": [],
   "source": [
    "data['Individual_category'].value_counts()"
   ]
  },
  {
   "cell_type": "code",
   "execution_count": null,
   "id": "10edecb5",
   "metadata": {},
   "outputs": [],
   "source": [
    "data.groupby('Individual_category').mean()['Ratings'] "
   ]
  },
  {
   "cell_type": "code",
   "execution_count": null,
   "id": "9bb890ac",
   "metadata": {},
   "outputs": [],
   "source": [
    "data[\"Ratings\"].describe()"
   ]
  },
  {
   "cell_type": "markdown",
   "id": "42d2775a",
   "metadata": {},
   "source": [
    "### -> As we can see the statistical values of the ratings does not changed after removing some data of individual category"
   ]
  },
  {
   "cell_type": "markdown",
   "id": "172bf9f6",
   "metadata": {},
   "source": [
    "### Filling the Average values in null values in 'Ratings' columns with respect to the 'Individual_category' columns"
   ]
  },
  {
   "cell_type": "code",
   "execution_count": null,
   "id": "17cebe70",
   "metadata": {},
   "outputs": [],
   "source": [
    "data['Ratings'] = data['Ratings'].fillna(data.groupby('Individual_category')['Ratings'].transform('mean'))"
   ]
  },
  {
   "cell_type": "code",
   "execution_count": null,
   "id": "624206ef",
   "metadata": {},
   "outputs": [],
   "source": [
    "data[\"Ratings\"].describe() "
   ]
  },
  {
   "cell_type": "markdown",
   "id": "ab529654",
   "metadata": {},
   "source": [
    "## Colnclusion\n",
    "### So after filling the null values there is not much change in statistcial data"
   ]
  },
  {
   "cell_type": "markdown",
   "id": "0a1f6f1c",
   "metadata": {},
   "source": [
    "## -------------------------------------------------------------------------"
   ]
  },
  {
   "cell_type": "markdown",
   "id": "546964e7",
   "metadata": {},
   "source": [
    "### ->Cleaning null values from the column 'DiscountPrice (in Rs)'"
   ]
  },
  {
   "cell_type": "code",
   "execution_count": null,
   "id": "1e7bc38a",
   "metadata": {},
   "outputs": [],
   "source": [
    "data[\"DiscountPrice (in Rs)\"].isnull().sum()"
   ]
  },
  {
   "cell_type": "markdown",
   "id": "93c50733",
   "metadata": {},
   "source": [
    "#### ->statisticsl values of column"
   ]
  },
  {
   "cell_type": "code",
   "execution_count": null,
   "id": "9a90efe2",
   "metadata": {},
   "outputs": [],
   "source": [
    "data[\"DiscountPrice (in Rs)\"].describe()"
   ]
  },
  {
   "cell_type": "markdown",
   "id": "aa300a32",
   "metadata": {},
   "source": [
    "### ->Filling the Average values in null values in 'DiscountPrice (in Rs)' columns with respect to the 'Individual_category' columns"
   ]
  },
  {
   "cell_type": "code",
   "execution_count": null,
   "id": "e69b7150",
   "metadata": {},
   "outputs": [],
   "source": [
    "data['DiscountPrice (in Rs)'] = data['DiscountPrice (in Rs)'].fillna(data.groupby('Individual_category')['DiscountPrice (in Rs)'].transform('mean'))"
   ]
  },
  {
   "cell_type": "code",
   "execution_count": null,
   "id": "b39d7088",
   "metadata": {},
   "outputs": [],
   "source": [
    "data['DiscountPrice (in Rs)'].isnull().sum()"
   ]
  },
  {
   "cell_type": "markdown",
   "id": "3759cdf6",
   "metadata": {},
   "source": [
    "### Removing the remaining null values"
   ]
  },
  {
   "cell_type": "code",
   "execution_count": null,
   "id": "8cd3746c",
   "metadata": {},
   "outputs": [],
   "source": [
    "data.dropna(subset=['DiscountPrice (in Rs)'], inplace=True)"
   ]
  },
  {
   "cell_type": "code",
   "execution_count": null,
   "id": "c695f7d9",
   "metadata": {},
   "outputs": [],
   "source": [
    "data['DiscountPrice (in Rs)'].isnull().sum()"
   ]
  },
  {
   "cell_type": "markdown",
   "id": "52c2ad3e",
   "metadata": {},
   "source": [
    "### ---------------------------------------------------"
   ]
  },
  {
   "cell_type": "markdown",
   "id": "73511559",
   "metadata": {},
   "source": [
    "## ->Cleaning null values from the column 'DiscountOffer'"
   ]
  },
  {
   "cell_type": "code",
   "execution_count": null,
   "id": "557a3da9",
   "metadata": {
    "scrolled": false
   },
   "outputs": [],
   "source": [
    "data.isnull().sum() "
   ]
  },
  {
   "cell_type": "markdown",
   "id": "03838164",
   "metadata": {},
   "source": [
    "### First we have to convert column datatype into Integer\n",
    "### we have to change the discount price missing values according to discount offer "
   ]
  },
  {
   "cell_type": "code",
   "execution_count": null,
   "id": "ef4de734",
   "metadata": {},
   "outputs": [],
   "source": [
    "#data[\"DiscountOffer)\"]=data[\"DiscountOffer\"].str.replace(\" OFF\",\"% OFF\")\n",
    "data[\"DiscountOffer\"]=data[\"DiscountOffer\"].str.replace('[OFF,\"OFF\",Hurry*,' ',\"%\",\"Rs. \"]', '')"
   ]
  },
  {
   "cell_type": "code",
   "execution_count": null,
   "id": "f8716134",
   "metadata": {
    "scrolled": true
   },
   "outputs": [],
   "source": [
    "data[\"DiscountOffer\"].value_counts()"
   ]
  },
  {
   "cell_type": "code",
   "execution_count": null,
   "id": "fbd0cccd",
   "metadata": {},
   "outputs": [],
   "source": [
    "data['DiscountOffer'] = data['DiscountOffer'].fillna(0)"
   ]
  },
  {
   "cell_type": "markdown",
   "id": "337cedcb",
   "metadata": {},
   "source": [
    "### Conclusion\n",
    "#### We fill the null values as 0 because there is no discount on those products"
   ]
  },
  {
   "cell_type": "code",
   "execution_count": null,
   "id": "e5a334a7",
   "metadata": {},
   "outputs": [],
   "source": [
    "data[\"DiscountOffer\"].isnull().sum()"
   ]
  },
  {
   "cell_type": "markdown",
   "id": "83da8a5d",
   "metadata": {},
   "source": [
    "### ------------------------------------------------------------"
   ]
  },
  {
   "cell_type": "markdown",
   "id": "68d2a552",
   "metadata": {},
   "source": [
    "## ->Cleaning null values from the column \"Reviews\""
   ]
  },
  {
   "cell_type": "code",
   "execution_count": null,
   "id": "16257272",
   "metadata": {},
   "outputs": [],
   "source": [
    "data[\"Reviews\"].value_counts().head()"
   ]
  },
  {
   "cell_type": "markdown",
   "id": "e722ddb2",
   "metadata": {},
   "source": [
    "### As we can see it contains large number of null values with different variations and a gerat difference in min and max value"
   ]
  },
  {
   "cell_type": "code",
   "execution_count": null,
   "id": "2a25b9e9",
   "metadata": {},
   "outputs": [],
   "source": [
    "data.groupby('Individual_category').mean()['Reviews'] "
   ]
  },
  {
   "cell_type": "code",
   "execution_count": null,
   "id": "50a3bcb3",
   "metadata": {},
   "outputs": [],
   "source": [
    "data['Reviews'].describe()"
   ]
  },
  {
   "cell_type": "markdown",
   "id": "a6cc1be9",
   "metadata": {},
   "source": [
    "### We can use forward and backword fill in reviews as in many cases the forwrd and backword values are same"
   ]
  },
  {
   "cell_type": "code",
   "execution_count": null,
   "id": "199931b7",
   "metadata": {},
   "outputs": [],
   "source": [
    "data['Reviews'] = data['Reviews'].fillna(method=\"ffill\")\n",
    "#data['Reviews'] = data['Reviews'].interpolate()\n"
   ]
  },
  {
   "cell_type": "markdown",
   "id": "21fc1980",
   "metadata": {},
   "source": [
    "### we are getting the same result as using the .interpolate() method which is use to guess the missing values in data\n"
   ]
  },
  {
   "cell_type": "code",
   "execution_count": null,
   "id": "3f9cd4b8",
   "metadata": {},
   "outputs": [],
   "source": [
    "data['Reviews'].describe()"
   ]
  },
  {
   "cell_type": "code",
   "execution_count": null,
   "id": "db0be805",
   "metadata": {},
   "outputs": [],
   "source": [
    "data.isnull().sum()"
   ]
  },
  {
   "cell_type": "markdown",
   "id": "4e0b1c10",
   "metadata": {},
   "source": [
    "### ----------------------------------------------------------"
   ]
  },
  {
   "cell_type": "markdown",
   "id": "f170236e",
   "metadata": {},
   "source": [
    "## UNIVARIATE ANALYSIS"
   ]
  },
  {
   "cell_type": "code",
   "execution_count": null,
   "id": "9577dab3",
   "metadata": {},
   "outputs": [],
   "source": [
    "data.head()"
   ]
  },
  {
   "cell_type": "code",
   "execution_count": null,
   "id": "68ac0383",
   "metadata": {},
   "outputs": [],
   "source": [
    "ax=plt.figure(figsize=[8,6])\n",
    "explode = (0.1, 0)\n",
    "data[\"category_by_Gender\"].value_counts().plot.pie(explode=explode,autopct = \"%.2f%%\", shadow=True,colors = ['blue', 'yellow'],startangle=90)\n",
    "plt.legend()"
   ]
  },
  {
   "cell_type": "markdown",
   "id": "4e39b448",
   "metadata": {},
   "source": [
    "## Conclusion\n",
    "### This graph shows the difference in male and female products using bar graph"
   ]
  },
  {
   "cell_type": "code",
   "execution_count": null,
   "id": "e36d276f",
   "metadata": {
    "scrolled": false
   },
   "outputs": [],
   "source": [
    "\n",
    "\n",
    "\n",
    "ax=plt.figure(figsize=[8,6])\n",
    "data[\"Category\"].value_counts().plot.barh(color='blue',edgecolor='red')\n",
    "plt.legend()"
   ]
  },
  {
   "cell_type": "markdown",
   "id": "cd94a944",
   "metadata": {},
   "source": [
    "## Conclusion\n",
    "### This graph shows the difference in Category of different products using bar graph"
   ]
  },
  {
   "cell_type": "code",
   "execution_count": null,
   "id": "76483dbf",
   "metadata": {},
   "outputs": [],
   "source": [
    "ax=plt.figure(figsize=[8,6])\n",
    "data[\"BrandName\"].value_counts().head(10).plot.barh(50,200,color='yellow',edgecolor='blue')\n",
    "plt.legend()\n"
   ]
  },
  {
   "cell_type": "markdown",
   "id": "4bedb4aa",
   "metadata": {},
   "source": [
    "## Conclusion\n",
    "### This graph shows the TOP -10 product brand using bar graph\n"
   ]
  },
  {
   "cell_type": "code",
   "execution_count": null,
   "id": "c76a9854",
   "metadata": {},
   "outputs": [],
   "source": [
    "ax=plt.figure(figsize=[18,16])\n",
    "data[\"Individual_category\"].value_counts().plot.barh(color='green',edgecolor='red')\n",
    "plt.legend()"
   ]
  },
  {
   "cell_type": "markdown",
   "id": "8037b3e5",
   "metadata": {},
   "source": [
    "## Conclusion\n",
    "### This graph shows the TOP-20 product brand using bar graph\n"
   ]
  },
  {
   "cell_type": "code",
   "execution_count": null,
   "id": "ea1f0478",
   "metadata": {},
   "outputs": [],
   "source": [
    "ax=plt.figure(figsize=[18,6])\n",
    "data.Ratings.plot.hist(bins=40)\n",
    "plt.show()"
   ]
  },
  {
   "cell_type": "markdown",
   "id": "ac7e19fa",
   "metadata": {},
   "source": [
    "## Conclusion\n",
    "### This graph shows the where the most ratings area of products using histogram4\n",
    "### lie in 3.5 - 4.5"
   ]
  },
  {
   "cell_type": "markdown",
   "id": "a75dd695",
   "metadata": {},
   "source": [
    "# Bivariate Analysis"
   ]
  },
  {
   "cell_type": "code",
   "execution_count": null,
   "id": "a0cb1337",
   "metadata": {},
   "outputs": [],
   "source": [
    "data.head()"
   ]
  },
  {
   "cell_type": "code",
   "execution_count": null,
   "id": "b417daa6",
   "metadata": {},
   "outputs": [],
   "source": [
    "ax=plt.figure(figsize=[8,6])\n",
    "data.groupby('Category').mean()['DiscountPrice (in Rs)'].head(15).plot.barh(color='green',edgecolor='red')\n",
    "plt.legend()"
   ]
  },
  {
   "cell_type": "markdown",
   "id": "30dca916",
   "metadata": {},
   "source": [
    "## Conclusion\n",
    "### It shows the mean discount on each category\n",
    "### it is found that western wear has high mean descount price"
   ]
  },
  {
   "cell_type": "code",
   "execution_count": null,
   "id": "afbf2e3c",
   "metadata": {},
   "outputs": [],
   "source": [
    "ax=plt.figure(figsize=[16,20])\n",
    "data.groupby('Individual_category').mean()['DiscountPrice (in Rs)'].plot.barh(color='green',edgecolor='red')\n",
    "plt.legend()"
   ]
  },
  {
   "cell_type": "markdown",
   "id": "612305b7",
   "metadata": {},
   "source": [
    "## Conclusion\n",
    "### It shows the mean discount of all individual clothes\n",
    "### it is found that suits ahev high discount price"
   ]
  },
  {
   "cell_type": "code",
   "execution_count": null,
   "id": "7e1688d1",
   "metadata": {},
   "outputs": [],
   "source": [
    "ax=plt.figure(figsize=[10,6])\n",
    "data.groupby('Category').mean()['OriginalPrice (in Rs)'].plot.barh(color='blue',edgecolor='red')\n",
    "plt.legend()"
   ]
  },
  {
   "cell_type": "markdown",
   "id": "73cf509b",
   "metadata": {},
   "source": [
    "## Conclusion\n",
    "### It shows the mean price of all individual category of clothes\n",
    "### it is found that the indian wear has high mean price on myntra"
   ]
  },
  {
   "cell_type": "code",
   "execution_count": null,
   "id": "9b18c563",
   "metadata": {},
   "outputs": [],
   "source": [
    "ax=plt.figure(figsize=[16,20])\n",
    "data.groupby('Individual_category').mean()['OriginalPrice (in Rs)'].plot.barh(color='blue',edgecolor='red')\n",
    "plt.legend()"
   ]
  },
  {
   "cell_type": "markdown",
   "id": "37c002b0",
   "metadata": {},
   "source": [
    "## Conclusion\n",
    "### It shows the mean price of all individual clothes\n",
    "### it is found that suits are most expnesive average price on myntra platform"
   ]
  },
  {
   "cell_type": "code",
   "execution_count": null,
   "id": "094d77df",
   "metadata": {},
   "outputs": [],
   "source": [
    "data.corr()"
   ]
  },
  {
   "cell_type": "code",
   "execution_count": null,
   "id": "18a96372",
   "metadata": {},
   "outputs": [],
   "source": [
    "# displaying the plotted heatmap\n",
    "ax=plt.figure(figsize=[9,7])\n",
    "sns.heatmap(data = data.corr(),cmap=\"Blues\",annot=True) \n",
    "plt.show()"
   ]
  },
  {
   "cell_type": "markdown",
   "id": "07e499ca",
   "metadata": {},
   "source": [
    "## Conclusion\n",
    "### this heatmap shows the realtionship of data as using correaltion "
   ]
  },
  {
   "cell_type": "code",
   "execution_count": null,
   "id": "e46e2fee",
   "metadata": {},
   "outputs": [],
   "source": [
    "### Multivariate"
   ]
  },
  {
   "cell_type": "code",
   "execution_count": null,
   "id": "8f77860d",
   "metadata": {},
   "outputs": [],
   "source": [
    "data.head()"
   ]
  },
  {
   "cell_type": "code",
   "execution_count": null,
   "id": "23fac2a8",
   "metadata": {},
   "outputs": [],
   "source": [
    "# Lets compare top 3 brand Pothys, kalini, roadster\n",
    "data_Roadster=data.loc[data[\"BrandName\"]==\"Roadster\"]\n",
    "data_Pothys=data.loc[data[\"BrandName\"]==\"Pothys\"]\n",
    "data_KALINI=data.loc[data[\"BrandName\"]==\"KALINI\"]\n"
   ]
  },
  {
   "cell_type": "code",
   "execution_count": null,
   "id": "f7929ce0",
   "metadata": {},
   "outputs": [],
   "source": [
    "plt.plot(data_Roadster[\"Reviews\"],np.zeros_like(data_Roadster[\"Reviews\"]),'o')\n",
    "plt.plot(data_Pothys[\"Reviews\"],np.zeros_like(data_Pothys[\"Reviews\"]),'o')\n",
    "plt.plot(data_KALINI[\"Reviews\"],np.zeros_like(data_KALINI[\"Reviews\"]),'o')\n",
    "plt.show()"
   ]
  },
  {
   "cell_type": "code",
   "execution_count": null,
   "id": "6167ef66",
   "metadata": {},
   "outputs": [],
   "source": []
  }
 ],
 "metadata": {
  "kernelspec": {
   "display_name": "Python 3 (ipykernel)",
   "language": "python",
   "name": "python3"
  },
  "language_info": {
   "codemirror_mode": {
    "name": "ipython",
    "version": 3
   },
   "file_extension": ".py",
   "mimetype": "text/x-python",
   "name": "python",
   "nbconvert_exporter": "python",
   "pygments_lexer": "ipython3",
   "version": "3.9.13"
  }
 },
 "nbformat": 4,
 "nbformat_minor": 5
}
